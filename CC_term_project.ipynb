{
  "nbformat": 4,
  "nbformat_minor": 0,
  "metadata": {
    "colab": {
      "provenance": [],
      "include_colab_link": true
    },
    "kernelspec": {
      "name": "python3",
      "display_name": "Python 3"
    },
    "language_info": {
      "name": "python"
    }
  },
  "cells": [
    {
      "cell_type": "markdown",
      "metadata": {
        "id": "view-in-github",
        "colab_type": "text"
      },
      "source": [
        "<a href=\"https://colab.research.google.com/github/terrence-brian/Compiler-Construction-Project/blob/main/CC_term_project.ipynb\" target=\"_parent\"><img src=\"https://colab.research.google.com/assets/colab-badge.svg\" alt=\"Open In Colab\"/></a>"
      ]
    },
    {
      "cell_type": "markdown",
      "source": [
        "**Group Members**\n",
        "1. Levi Zwannah - 123558\n",
        "2. Natalie Aoya - 121600\n",
        "3. Terrence Oyoo - 122846\n",
        "4. Regina Mbari - 121543"
      ],
      "metadata": {
        "id": "UxSl0Urixwr1"
      }
    },
    {
      "cell_type": "markdown",
      "source": [
        "**K++** Programming Language Example  \n",
        "The below program demonstrates:\n",
        "1. How to declare a variable\n",
        "2. How to initialize a variable\n",
        "3. How to write if statements\n",
        "4. Different types of conditions \n",
        "5. Comments\n",
        "\n",
        "- We developed our own simple programming language and named it K++. We also clearly the grammar it uses together with additional features such as strong and weak bounds."
      ],
      "metadata": {
        "id": "5_iuMAvvY_HX"
      }
    },
    {
      "cell_type": "code",
      "execution_count": null,
      "metadata": {
        "id": "VKRhVDegYSNN"
      },
      "outputs": [],
      "source": [
        "  \n",
        "  -- declaring a viarable\n",
        "  -------------------------\n",
        "  set var1; \n",
        "  set var2 = 3;\n",
        "  set var3 = \"Name\";\n",
        "\n",
        "  -- initializing\n",
        "  -------------------------\n",
        "  var1 = 3;\n",
        "\n",
        "  -- conditional statments\n",
        "  -------------------------\n",
        "  set condition1 = 1 < var2 < 5;    -- equivalent to 1 < var2 && 5 > var2\n",
        "  set condition2 = var2 <> [3, 8];  -- === var2 < 3 || var2 > 8\n",
        "\n",
        "  -- intervals\n",
        "  -- [,] indicates inclusive and (,) indicates exclusive\n",
        "  ---------------------------------------------------------------\n",
        "  \n",
        "  set condition3 = var2 in (1, 5);    -- same as condition1\n",
        "  set condition4 = var2 in [1, 5];    -- var2 >= 1 && var2 <= 5;\n",
        "  set condition5 = var2 in [1, 8);    -- var2 >= 1 && var2 < 8;\n",
        "\n",
        "  -- =============================================================\n",
        "  -- remaining conditions are similar to c++ programming language\n",
        "  -- =============================================================\n",
        "\n",
        "  -- if-statements\n",
        "  ----------------------\n",
        "\n",
        "  if -> condition1 -> {\n",
        "      -- code\n",
        "  }\n",
        "  or if-> condition2 -> {\n",
        "      -- code\n",
        "  }\n",
        "  or {\n",
        "      -- code\n",
        "  }\n",
        "\n",
        "  "
      ]
    },
    {
      "cell_type": "markdown",
      "source": [
        "**K++ Grammar**\n",
        "===============\n",
        "\n",
        "**Terminals**  \n",
        "--------------\n",
        "```\n",
        "1. arithOp -> +  // arithmetic operator\n",
        "      | -  \n",
        "      | *  \n",
        "      | /  \n",
        "      | % \n",
        "\n",
        "2. relOp -> or   // relational operator\n",
        "      | ||  \n",
        "      | and  \n",
        "      | &&  \n",
        "      | >  \n",
        "      | <   \n",
        "      | <=  \n",
        "      | >=  \n",
        "      | ==  \n",
        "      | ===  \n",
        "\n",
        "2. digit -> [0-9] \n",
        "\n",
        "3. char  -> [A-Za-z]  \n",
        "```\n",
        "\n",
        "**Generic Non-terminals**  \n",
        "-------------------------\n",
        "```\n",
        "4. [STRING] -> char\n",
        "             | digit  \n",
        "             | [STRING][STRING]\n",
        "             | ϵ\n",
        "\n",
        "5. [ID] -> char[STRING]\n",
        "         | _[STRING]\n",
        "         | $[STRING]\n",
        "\n",
        "6. [LITERAL] -> \"[STRING]\"\n",
        "              | '[STRING]'\n",
        "              | digit  \n",
        "              | [DECIMAL]  \n",
        "              | true\n",
        "              | false\n",
        "\n",
        "7. [TERM] -> [TERM] arithOp [TERM]\n",
        "           | ([TERM])  \n",
        "           | [CONDITION]\n",
        "           | [LITERAL]\n",
        "           | [ID]  \n",
        "  \n",
        "9. [FRACTION] -> digit\n",
        "               | digit[FRACTION]  \n",
        "\n",
        "10. [DECIMAL] -> digit.[FRACTION]  \n",
        "\n",
        "11. [NUMBER] -> digit\n",
        "              | [DECIMAL]\n",
        "\n",
        "```\n",
        "\n",
        "**Variable declaration**  \n",
        "--------------------------\n",
        "\n",
        "```\n",
        "[DEC] -> set [ID];\n",
        "       | set [ID] = [TERM];\n",
        "```\n",
        "\n",
        "**Conditions**  \n",
        "----------------\n",
        "```\n",
        "[INTERVAL] -> [ [NUMBER], [NUMBER] ]\n",
        "            | [ [NUMBER], [NUMBER] )\n",
        "            | ( [NUMBER], [NUMBER] ]\n",
        "            | ( [NUMBER], [NUMBER] )\n",
        "\n",
        "[UNEQUAL-OP] -> >  \n",
        "              | <  \n",
        "              | !=  \n",
        "\n",
        "[DOUBLE-REL-OP] -> >>  \n",
        "                 | <<  \n",
        "                 | <>  \n",
        "                 | ><\n",
        "\n",
        "[CONDITION] -> [CONDITION] relOp [CONDITION]\n",
        "             | [LITERAL] relOp [LITERAL]  \n",
        "             | [TERM] relOp [TERM]  \n",
        "             | [TERM] in [INTERVAL]\n",
        "             | [TERM] [UNEQUAL-OP] [TERM] [UNEQUAL-OP] [TERM]  \n",
        "             | [TERM] [DOUBLE-REL-OP] [ [TERM], [TERM] ]\n",
        "```\n",
        "\n",
        "**Control Structure (IF-ELSE)**  \n",
        "----------------------------------\n",
        "```\n",
        "[STMT]-> [TERM];\n",
        "       | [BLOCK]  \n",
        "       | [STMT][STMT]\n",
        "       | ...@Todo  \n",
        "\n",
        "[IF-STMT] -> if -> [CONDITION] -> { [STMT] } \n",
        "           | [IF-STMT] or { [STMT] }  \n",
        "           | [IF-STMT] or [IF-STMT]\n",
        "``\n"
      ],
      "metadata": {
        "id": "fJ70ks7ogSZl"
      }
    },
    {
      "cell_type": "code",
      "source": [],
      "metadata": {
        "id": "toO1PgJ-xitb"
      },
      "execution_count": null,
      "outputs": []
    }
  ]
}